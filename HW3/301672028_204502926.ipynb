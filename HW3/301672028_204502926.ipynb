{
 "cells": [
  {
   "cell_type": "markdown",
   "metadata": {},
   "source": [
    "### IDs:\n",
    "Insert yours IDs to the cell below"
   ]
  },
  {
   "cell_type": "markdown",
   "metadata": {},
   "source": [
    "ID #1: 301672028\n",
    "\n",
    "ID #2: 204502926\n"
   ]
  },
  {
   "cell_type": "markdown",
   "metadata": {},
   "source": [
    "## Read the following instructions carefully:\n",
    "\n",
    "1. This jupyter notebook contains all the step by step instructions needed for this exercise.\n",
    "1. You are free to add cells.\n",
    "1. Write your functions and your answers in this jupyter notebook only.\n",
    "1. Answers to theoretical questions should be written in **markdown cells (with $\\LaTeX$ support)**.\n",
    "1. Submit this jupyter notebook only using your ID as a filename. Not to use ZIP or RAR. For example, your Moodle submission file name should look like this (two id numbers): `123456789_987654321.ipynb`."
   ]
  },
  {
   "cell_type": "markdown",
   "metadata": {},
   "source": [
    "#### IMPORTS"
   ]
  },
  {
   "cell_type": "code",
   "execution_count": 1,
   "metadata": {},
   "outputs": [],
   "source": [
    "import pandas as pd\n",
    "import numpy as np\n",
    "import seaborn as sns\n",
    "import matplotlib.pyplot as plt\n",
    "from scipy import stats # pearsonr, "
   ]
  },
  {
   "cell_type": "markdown",
   "metadata": {},
   "source": [
    "### Question 1 - Correlations (15 points)"
   ]
  },
  {
   "cell_type": "markdown",
   "metadata": {},
   "source": [
    "Provide example datapoints matching the following descriptions. Each example should be constructed over n=50 datapoints. Provide a table description of the example data as well as a jointplot (see example below). \n",
    "If you think that the situation described is impossible then clearly explain why (you don’t need to give a rigorous proof).<br>\n",
    "Pearson(x,y) = Pearson correlation<br>\n",
    "τ(x,y) = Kendall rank correlation<br>\n",
    "ρ(x,y) = Spearman rank correlation <br>\n",
    "<img src=\"jointplot.png\">"
   ]
  },
  {
   "cell_type": "markdown",
   "metadata": {},
   "source": [
    "#### Answer:"
   ]
  },
  {
   "cell_type": "code",
   "execution_count": 2,
   "metadata": {},
   "outputs": [],
   "source": [
    "n = 50 # 50 datapoints\n",
    "\n",
    "def print_table_and_jointplot(x, y, d = True):\n",
    "    # table description of the example data\n",
    "    table = pd.DataFrame(np.vstack((x,y)).T, columns = ['x', 'y'])\n",
    "    \n",
    "    if d != False:\n",
    "        table['d_i'] = table['x'] - table['y']\n",
    "    \n",
    "    print(table)\n",
    "\n",
    "    p = sns.jointplot(data=table, x=x, y=y, marker='+')\n",
    "    p.fig.suptitle('x & y values JointPlot', fontsize=25)\n",
    "    p.fig.subplots_adjust(top=0.9) # Reduce plot to make room for title"
   ]
  },
  {
   "cell_type": "markdown",
   "metadata": {},
   "source": [
    "For each section, we create x and y vectors of size n each."
   ]
  },
  {
   "cell_type": "markdown",
   "metadata": {},
   "source": [
    "#### 1.A\n",
    "Data in which  $Pearson(x,y) < -0.9$ but where $n-1$ points can be selected so that for the vectors restricted to those we have $Pearson(x_{n-1},y_{n-1}) > -0.2$"
   ]
  },
  {
   "cell_type": "code",
   "execution_count": 3,
   "metadata": {},
   "outputs": [
    {
     "name": "stdout",
     "output_type": "stream",
     "text": [
      "Overall Pearson correlation between x & y is -0.999998000834983\n",
      "Excluding the last value of each, we get 1.0\n",
      "\n",
      "        x      y\n",
      "0   0.000  0.000\n",
      "1   0.000  0.000\n",
      "2   0.000  0.000\n",
      "3   0.000  0.000\n",
      "4   0.000  0.000\n",
      "5   0.000  0.000\n",
      "6   0.000  0.000\n",
      "7   0.000  0.000\n",
      "8   0.000  0.000\n",
      "9   0.000  0.000\n",
      "10  0.000  0.000\n",
      "11  0.000  0.000\n",
      "12  0.000  0.000\n",
      "13  0.000  0.000\n",
      "14  0.000  0.000\n",
      "15  0.000  0.000\n",
      "16  0.000  0.000\n",
      "17  0.000  0.000\n",
      "18  0.000  0.000\n",
      "19  0.000  0.000\n",
      "20  0.000  0.000\n",
      "21  0.000  0.000\n",
      "22  0.000  0.000\n",
      "23  0.000  0.000\n",
      "24  0.000  0.000\n",
      "25  0.000  0.000\n",
      "26  0.000  0.000\n",
      "27  0.000  0.000\n",
      "28  0.000  0.000\n",
      "29  0.000  0.000\n",
      "30  0.000  0.000\n",
      "31  0.000  0.000\n",
      "32  0.000  0.000\n",
      "33  0.000  0.000\n",
      "34  0.000  0.000\n",
      "35  0.000  0.000\n",
      "36  0.000  0.000\n",
      "37  0.000  0.000\n",
      "38  0.000  0.000\n",
      "39  0.000  0.000\n",
      "40  0.000  0.000\n",
      "41  0.000  0.000\n",
      "42  0.000  0.000\n",
      "43  0.000  0.000\n",
      "44  0.000  0.000\n",
      "45  0.000  0.000\n",
      "46  0.000  0.000\n",
      "47  0.000  0.000\n",
      "48  0.001  0.001\n",
      "49 -1.000  1.000\n"
     ]
    },
    {
     "data": {
      "image/png": "[encoded data removed]",
      "text/plain": [
       "<Figure size 432x432 with 3 Axes>"
      ]
     },
     "metadata": {
      "needs_background": "light"
     },
     "output_type": "display_data"
    }
   ],
   "source": [
    "x = np.zeros(n)\n",
    "y = np.zeros(n)\n",
    "\n",
    "x[n-2] = 0.001\n",
    "y[n-2] = 0.001\n",
    "\n",
    "# these are the last values we will exclude\n",
    "x[n-1] = -1\n",
    "y[n-1] = 1\n",
    "\n",
    "overall_correlation = stats.pearsonr(x, y)[0]\n",
    "partial_correlation = stats.pearsonr(x[:n-1], y[:n-1])[0]\n",
    "\n",
    "print(f'\\\n",
    "Overall Pearson correlation between x & y is {overall_correlation}\\n\\\n",
    "Excluding the last value of each, we get {partial_correlation}\\n')\n",
    "\n",
    "print_table_and_jointplot(x, y, d=False)"
   ]
  },
  {
   "cell_type": "markdown",
   "metadata": {},
   "source": [
    "#### 1.B\n",
    "Data with τ(x,y) > ρ(x,y) + 0.45"
   ]
  },
  {
   "cell_type": "markdown",
   "metadata": {},
   "source": [
    "***\n",
    "All n ranks are distinct integers, so Spearman can be computed with the popular formula:\n",
    "$$\n",
    "\\rho=1-\\frac{6 \\sum d_{i}^{2}}{n\\left(n^{2}-1\\right)}\n",
    "$$\n",
    "Where $d_i = rank(x_i) - rank(y_i)$<br>\n",
    "So in our case, we need to \"mess\" with it such that the ranks will not all increase together, so we split it to two increasing lines\n",
    "and therefore, the distances are quite large (all are of size 25, with pluses and minuses, see table below), so the correlation value will be relatively small.\n",
    "\n",
    "Kendall correlation simply subtracts the number of discordant from concordant pairs, so the squaring of d's in Spearman has a larger effect on the resulting correlation value.\n",
    "And also, there are many concordant pairs"
   ]
  },
  {
   "cell_type": "code",
   "execution_count": 4,
   "metadata": {},
   "outputs": [
    {
     "name": "stdout",
     "output_type": "stream",
     "text": [
      "Kendall correlation between x & y is -0.020408163265306124\n",
      "Spearman correlation between x & y is -0.5006002400960383\n",
      "Kendall > Spearman by 0.4801920768307322\n",
      "\n",
      "       x     y   d_i\n",
      "0    1.0  26.0 -25.0\n",
      "1    2.0  27.0 -25.0\n",
      "2    3.0  28.0 -25.0\n",
      "3    4.0  29.0 -25.0\n",
      "4    5.0  30.0 -25.0\n",
      "5    6.0  31.0 -25.0\n",
      "6    7.0  32.0 -25.0\n",
      "7    8.0  33.0 -25.0\n",
      "8    9.0  34.0 -25.0\n",
      "9   10.0  35.0 -25.0\n",
      "10  11.0  36.0 -25.0\n",
      "11  12.0  37.0 -25.0\n",
      "12  13.0  38.0 -25.0\n",
      "13  14.0  39.0 -25.0\n",
      "14  15.0  40.0 -25.0\n",
      "15  16.0  41.0 -25.0\n",
      "16  17.0  42.0 -25.0\n",
      "17  18.0  43.0 -25.0\n",
      "18  19.0  44.0 -25.0\n",
      "19  20.0  45.0 -25.0\n",
      "20  21.0  46.0 -25.0\n",
      "21  22.0  47.0 -25.0\n",
      "22  23.0  48.0 -25.0\n",
      "23  24.0  49.0 -25.0\n",
      "24  25.0  50.0 -25.0\n",
      "25  26.0   1.0  25.0\n",
      "26  27.0   2.0  25.0\n",
      "27  28.0   3.0  25.0\n",
      "28  29.0   4.0  25.0\n",
      "29  30.0   5.0  25.0\n",
      "30  31.0   6.0  25.0\n",
      "31  32.0   7.0  25.0\n",
      "32  33.0   8.0  25.0\n",
      "33  34.0   9.0  25.0\n",
      "34  35.0  10.0  25.0\n",
      "35  36.0  11.0  25.0\n",
      "36  37.0  12.0  25.0\n",
      "37  38.0  13.0  25.0\n",
      "38  39.0  14.0  25.0\n",
      "39  40.0  15.0  25.0\n",
      "40  41.0  16.0  25.0\n",
      "41  42.0  17.0  25.0\n",
      "42  43.0  18.0  25.0\n",
      "43  44.0  19.0  25.0\n",
      "44  45.0  20.0  25.0\n",
      "45  46.0  21.0  25.0\n",
      "46  47.0  22.0  25.0\n",
      "47  48.0  23.0  25.0\n",
      "48  49.0  24.0  25.0\n",
      "49  50.0  25.0  25.0\n"
     ]
    },
    {
     "data": {
      "image/png": "[encoded data removed]",
      "text/plain": [
       "<Figure size 432x432 with 3 Axes>"
      ]
     },
     "metadata": {
      "needs_background": "light"
     },
     "output_type": "display_data"
    }
   ],
   "source": [
    "x = np.arange(n) + 1\n",
    "y = np.empty(n)\n",
    "\n",
    "y[0:25] = (np.arange(25) + 1) + 25\n",
    "y[25:] = (np.arange(25) + 1)\n",
    "\n",
    "kendall_correlation = stats.kendalltau(x, y)[0]\n",
    "spearman_correlation = stats.spearmanr(x, y)[0]\n",
    "\n",
    "print(f'\\\n",
    "Kendall correlation between x & y is {kendall_correlation}\\n\\\n",
    "Spearman correlation between x & y is {spearman_correlation}\\n\\\n",
    "Kendall > Spearman by {kendall_correlation - spearman_correlation}\\n')\n",
    "\n",
    "print_table_and_jointplot(x, y)"
   ]
  },
  {
   "cell_type": "markdown",
   "metadata": {},
   "source": [
    "#### 1.C\n",
    "Data with τ(x,y) < ρ(x,y) – 0.45"
   ]
  },
  {
   "cell_type": "markdown",
   "metadata": {},
   "source": [
    "***\n",
    "Here, we reverse y values (change the slope from 1.B to its negative value) so the $d_i$'s are much smaller than those in section 1.B and thus the result is much larger (values are from 0-25, with pluses and minuses, see table below).<br>\n",
    "The concordant and discordant pairs here are exactly opposite to 1.B, hence the minus of Kendall's previous value."
   ]
  },
  {
   "cell_type": "code",
   "execution_count": 5,
   "metadata": {},
   "outputs": [
    {
     "name": "stdout",
     "output_type": "stream",
     "text": [
      "Kendall correlation between x & y is 0.020408163265306124\n",
      "Spearman correlation between x & y is 0.5006002400960383\n",
      "Kendall < Spearman by 0.4801920768307322\n",
      "\n",
      "       x     y   d_i\n",
      "0    1.0  25.0 -24.0\n",
      "1    2.0  24.0 -22.0\n",
      "2    3.0  23.0 -20.0\n",
      "3    4.0  22.0 -18.0\n",
      "4    5.0  21.0 -16.0\n",
      "5    6.0  20.0 -14.0\n",
      "6    7.0  19.0 -12.0\n",
      "7    8.0  18.0 -10.0\n",
      "8    9.0  17.0  -8.0\n",
      "9   10.0  16.0  -6.0\n",
      "10  11.0  15.0  -4.0\n",
      "11  12.0  14.0  -2.0\n",
      "12  13.0  13.0   0.0\n",
      "13  14.0  12.0   2.0\n",
      "14  15.0  11.0   4.0\n",
      "15  16.0  10.0   6.0\n",
      "16  17.0   9.0   8.0\n",
      "17  18.0   8.0  10.0\n",
      "18  19.0   7.0  12.0\n",
      "19  20.0   6.0  14.0\n",
      "20  21.0   5.0  16.0\n",
      "21  22.0   4.0  18.0\n",
      "22  23.0   3.0  20.0\n",
      "23  24.0   2.0  22.0\n",
      "24  25.0   1.0  24.0\n",
      "25  26.0  50.0 -24.0\n",
      "26  27.0  49.0 -22.0\n",
      "27  28.0  48.0 -20.0\n",
      "28  29.0  47.0 -18.0\n",
      "29  30.0  46.0 -16.0\n",
      "30  31.0  45.0 -14.0\n",
      "31  32.0  44.0 -12.0\n",
      "32  33.0  43.0 -10.0\n",
      "33  34.0  42.0  -8.0\n",
      "34  35.0  41.0  -6.0\n",
      "35  36.0  40.0  -4.0\n",
      "36  37.0  39.0  -2.0\n",
      "37  38.0  38.0   0.0\n",
      "38  39.0  37.0   2.0\n",
      "39  40.0  36.0   4.0\n",
      "40  41.0  35.0   6.0\n",
      "41  42.0  34.0   8.0\n",
      "42  43.0  33.0  10.0\n",
      "43  44.0  32.0  12.0\n",
      "44  45.0  31.0  14.0\n",
      "45  46.0  30.0  16.0\n",
      "46  47.0  29.0  18.0\n",
      "47  48.0  28.0  20.0\n",
      "48  49.0  27.0  22.0\n",
      "49  50.0  26.0  24.0\n"
     ]
    },
    {
     "data": {
      "image/png": "[encoded data removed]",
      "text/plain": [
       "<Figure size 432x432 with 3 Axes>"
      ]
     },
     "metadata": {
      "needs_background": "light"
     },
     "output_type": "display_data"
    }
   ],
   "source": [
    "x = np.arange(n) + 1\n",
    "y = np.empty(n)\n",
    "\n",
    "y[0:25] = (np.arange(25) + 1)[::-1] # reverse -> number are decreasing\n",
    "y[25:] = (np.arange(25) + 1)[::-1] + 25\n",
    "\n",
    "kendall_correlation = stats.kendalltau(x, y)[0]\n",
    "spearman_correlation = stats.spearmanr(x, y)[0]\n",
    "\n",
    "print(f'\\\n",
    "Kendall correlation between x & y is {kendall_correlation}\\n\\\n",
    "Spearman correlation between x & y is {spearman_correlation}\\n\\\n",
    "Kendall < Spearman by {spearman_correlation - kendall_correlation}\\n')\n",
    "\n",
    "print_table_and_jointplot(x, y)"
   ]
  },
  {
   "cell_type": "markdown",
   "metadata": {},
   "source": [
    "#### 1.D\n",
    "Data with Pearson(x,y) < ρ(x,y) – 0.6"
   ]
  },
  {
   "cell_type": "markdown",
   "metadata": {},
   "source": [
    "***\n",
    "Pearson \"seeks\" perfect linearity between x and y (in order to be 1 or -1 for example), while Spearman cares only for the order of the ranks.<br>\n",
    "So we can simply make the graph non-linear monotonically increasing.\n",
    "\n",
    "We saw a similar example in class (lecture \"p-Values and introduction to correlations\", slide 37)."
   ]
  },
  {
   "cell_type": "code",
   "execution_count": null,
   "metadata": {},
   "outputs": [
    {
     "name": "stdout",
     "output_type": "stream",
     "text": [
      "Pearson correlation between x & y is 0.3525162104692502\n",
      "Spearman correlation between x & y is 0.9565343606966125\n",
      "Pearson < Spearman by 0.6040181502273623\n",
      "\n",
      "       x             y           d_i\n",
      "0    1.0  0.000000e+00  1.000000e+00\n",
      "1    2.0  0.000000e+00  2.000000e+00\n",
      "2    3.0  0.000000e+00  3.000000e+00\n",
      "3    4.0  0.000000e+00  4.000000e+00\n",
      "4    5.0  0.000000e+00  5.000000e+00\n",
      "5    6.0  0.000000e+00  6.000000e+00\n",
      "6    7.0  0.000000e+00  7.000000e+00\n",
      "7    8.0  0.000000e+00  8.000000e+00\n",
      "8    9.0  0.000000e+00  9.000000e+00\n",
      "9   10.0  0.000000e+00  1.000000e+01\n",
      "10  11.0  0.000000e+00  1.100000e+01\n",
      "11  12.0  0.000000e+00  1.200000e+01\n",
      "12  13.0  0.000000e+00  1.300000e+01\n",
      "13  14.0  0.000000e+00  1.400000e+01\n",
      "14  15.0  0.000000e+00  1.500000e+01\n",
      "15  16.0  0.000000e+00  1.600000e+01\n",
      "16  17.0  0.000000e+00  1.700000e+01\n",
      "17  18.0  0.000000e+00  1.800000e+01\n",
      "18  19.0  0.000000e+00  1.900000e+01\n",
      "19  20.0  0.000000e+00  2.000000e+01\n",
      "20  21.0  0.000000e+00  2.100000e+01\n",
      "21  22.0  0.000000e+00  2.200000e+01\n",
      "22  23.0  1.000000e+00  2.200000e+01\n",
      "23  24.0  2.718282e+00  2.128172e+01\n",
      "24  25.0  7.389056e+00  1.761094e+01\n",
      "25  26.0  2.008554e+01  5.914463e+00\n",
      "26  27.0  5.459815e+01 -2.759815e+01\n",
      "27  28.0  1.484132e+02 -1.204132e+02\n",
      "28  29.0  4.034288e+02 -3.744288e+02\n",
      "29  30.0  1.096633e+03 -1.066633e+03\n",
      "30  31.0  2.980958e+03 -2.949958e+03\n",
      "31  32.0  8.103084e+03 -8.071084e+03\n",
      "32  33.0  2.202647e+04 -2.199347e+04\n",
      "33  34.0  5.987414e+04 -5.984014e+04\n",
      "34  35.0  1.627548e+05 -1.627198e+05\n",
      "35  36.0  4.424134e+05 -4.423774e+05\n",
      "36  37.0  1.202604e+06 -1.202567e+06\n",
      "37  38.0  3.269017e+06 -3.268979e+06\n",
      "38  39.0  8.886111e+06 -8.886072e+06\n",
      "39  40.0  2.415495e+07 -2.415491e+07\n",
      "40  41.0  6.565997e+07 -6.565993e+07\n",
      "41  42.0  1.784823e+08 -1.784823e+08\n",
      "42  43.0  4.851652e+08 -4.851652e+08\n",
      "43  44.0  1.318816e+09 -1.318816e+09\n",
      "44  45.0  3.584913e+09 -3.584913e+09\n",
      "45  46.0  9.744803e+09 -9.744803e+09\n",
      "46  47.0  2.648912e+10 -2.648912e+10\n",
      "47  48.0  7.200490e+10 -7.200490e+10\n",
      "48  49.0  1.957296e+11 -1.957296e+11\n",
      "49  50.0  5.320482e+11 -5.320482e+11\n"
     ]
    }
   ],
   "source": [
    "x = np.arange(n) + 1\n",
    "y = np.zeros(n)\n",
    "\n",
    "# When passing x, it takes too long to run, and a tail of 28 (n - index) is enough for the desired difference\n",
    "index = 22\n",
    "y[index:] = np.exp((np.arange(n - index)))\n",
    "\n",
    "pearson_correlation = stats.pearsonr(x, y)[0]\n",
    "spearman_correlation = stats.spearmanr(x, y)[0]\n",
    "\n",
    "print(f'\\\n",
    "Pearson correlation between x & y is {pearson_correlation}\\n\\\n",
    "Spearman correlation between x & y is {spearman_correlation}\\n\\\n",
    "Pearson < Spearman by {spearman_correlation - pearson_correlation}\\n')\n",
    "\n",
    "print_table_and_jointplot(x, y)"
   ]
  },
  {
   "cell_type": "markdown",
   "metadata": {},
   "source": [
    "#### 1.E\n",
    "Data with Pearson(x,y) > ρ(x,y) + 1.2"
   ]
  },
  {
   "cell_type": "markdown",
   "metadata": {},
   "source": [
    "***\n",
    "A little bit of playing with numbers, but in general, the goal was for x and y to be **linearly increasing** for Pearson to have a high-enough value (and so their ranks are also ordered for Spearman),<br>\n",
    "but for the distance, $d$, between corresponding ranks to be large and for one entry to be extremely detached - this will \"hurt\" Spearman more than Pearson, because Spearman is more sensitive to a big mismatch (unorder) in the data,<br>"
   ]
  },
  {
   "cell_type": "code",
   "execution_count": 7,
   "metadata": {},
   "outputs": [
    {
     "name": "stdout",
     "output_type": "stream",
     "text": [
      "Pearson correlation between x & y is 0.41839142784428485\n",
      "Spearman correlation between x & y is -0.8823529411764706\n",
      "Pearson > Spearman by 1.3007443690207554\n",
      "\n",
      "        x          y        d_i\n",
      "0     1.0   1.000000   0.000000\n",
      "1     2.0   0.979592   1.020408\n",
      "2     3.0   0.959184   2.040816\n",
      "3     4.0   0.938776   3.061224\n",
      "4     5.0   0.918367   4.081633\n",
      "5     6.0   0.897959   5.102041\n",
      "6     7.0   0.877551   6.122449\n",
      "7     8.0   0.857143   7.142857\n",
      "8     9.0   0.836735   8.163265\n",
      "9    10.0   0.816327   9.183673\n",
      "10   11.0   0.795918  10.204082\n",
      "11   12.0   0.775510  11.224490\n",
      "12   13.0   0.755102  12.244898\n",
      "13   14.0   0.734694  13.265306\n",
      "14   15.0   0.714286  14.285714\n",
      "15   16.0   0.693878  15.306122\n",
      "16   17.0   0.673469  16.326531\n",
      "17   18.0   0.653061  17.346939\n",
      "18   19.0   0.632653  18.367347\n",
      "19   20.0   0.612245  19.387755\n",
      "20   21.0   0.591837  20.408163\n",
      "21   22.0   0.571429  21.428571\n",
      "22   23.0   0.551020  22.448980\n",
      "23   24.0   0.530612  23.469388\n",
      "24   25.0   0.510204  24.489796\n",
      "25   26.0   0.489796  25.510204\n",
      "26   27.0   0.469388  26.530612\n",
      "27   28.0   0.448980  27.551020\n",
      "28   29.0   0.428571  28.571429\n",
      "29   30.0   0.408163  29.591837\n",
      "30   31.0   0.387755  30.612245\n",
      "31   32.0   0.367347  31.632653\n",
      "32   33.0   0.346939  32.653061\n",
      "33   34.0   0.326531  33.673469\n",
      "34   35.0   0.306122  34.693878\n",
      "35   36.0   0.285714  35.714286\n",
      "36   37.0   0.265306  36.734694\n",
      "37   38.0   0.244898  37.755102\n",
      "38   39.0   0.224490  38.775510\n",
      "39   40.0   0.204082  39.795918\n",
      "40   41.0   0.183673  40.816327\n",
      "41   42.0   0.163265  41.836735\n",
      "42   43.0   0.142857  42.857143\n",
      "43   44.0   0.122449  43.877551\n",
      "44   45.0   0.102041  44.897959\n",
      "45   46.0   0.081633  45.918367\n",
      "46   47.0   0.061224  46.938776\n",
      "47   48.0   0.040816  47.959184\n",
      "48   49.0   0.020408  48.979592\n",
      "49  100.0  10.000000  90.000000\n"
     ]
    },
    {
     "data": {
      "image/png": "[encoded data removed]",
      "text/plain": [
       "<Figure size 432x432 with 3 Axes>"
      ]
     },
     "metadata": {
      "needs_background": "light"
     },
     "output_type": "display_data"
    }
   ],
   "source": [
    "x = np.arange(n) + 1\n",
    "y = np.linspace(0, 1, num=n)[::-1]\n",
    "\n",
    "x[n-1] = 100\n",
    "y[n-1] = 10\n",
    "\n",
    "pearson_correlation = stats.pearsonr(x, y)[0]\n",
    "spearman_correlation = stats.spearmanr(x, y)[0]\n",
    "\n",
    "print(f'\\\n",
    "Pearson correlation between x & y is {pearson_correlation}\\n\\\n",
    "Spearman correlation between x & y is {spearman_correlation}\\n\\\n",
    "Pearson > Spearman by {pearson_correlation - spearman_correlation}\\n')\n",
    "\n",
    "print_table_and_jointplot(x, y)"
   ]
  },
  {
   "cell_type": "markdown",
   "metadata": {},
   "source": [
    "#### 1.F\n",
    "Data with τ(x,y) < ρ(x,y) – 1.2 "
   ]
  },
  {
   "cell_type": "markdown",
   "metadata": {},
   "source": [
    "The situation described is impossible because a difference bigger than 1 indicates that the 2 correlation values have a different sign (since they can only be in the range [-1,1]).<br>\n",
    "Since both Kendall and Spearman correlation measures are rank-based, there is no scenario where they can have a different sign."
   ]
  },
  {
   "cell_type": "markdown",
   "metadata": {},
   "source": [
    "### Question 2 - Analysis of the UCI Heart Disease dataset  (40 points)"
   ]
  },
  {
   "cell_type": "markdown",
   "metadata": {},
   "source": [
    "Perform data analysis on the UCI Heart Disease Dataset\n",
    "References:\n",
    "1. Detrano, R., Janosi, A., Steinbrunn, W., Pfisterer, M., Schmid, J., Sandhu, S., Guppy, K., Lee, S., & Froelicher, V. (1989). International application of a new probability algorithm for the diagnosis of coronary artery disease. American Journal of Cardiology, 64,304--310.\n",
    "2. David W. Aha & Dennis Kibler. \"Instance-based prediction of heart-disease presence with the Cleveland database.\"\n",
    "3. Gennari, J.H., Langley, P, & Fisher, D. (1989). Models of incremental concept formation. Artificial Intelligence, 40, 11--61.\n",
    "\n",
    "Use the following links to find the details of the data: \n",
    "1. https://archive.ics.uci.edu/ml/datasets/heart+disease\n",
    "2. https://www.kaggle.com/ronitf/heart-disease-uci\n",
    "\n",
    "In the follwong cells write a report for your analysis. In your report provide a clear description of the analysis methods and of the results. This should include a graphical representation of the results and the conclusions. Provide p-values or other indicators of the statistical significance where appropriate. <br>\n",
    "Design your report to be concise but still cover interesting findings.\n",
    "\n",
    "There are missing values in the data. Find them and impute them by using the median (for numerical features) or the mode (for categorical features) value of the relevant feature (column).\n",
    "Address the following questions:\n",
    "* Using confidence intervals determine for which numerical features you can state with confidence of 95% that the healthy population (target = 0) mean is larger/smaller than the disease population (target = 1) mean. \n",
    "* Draw histograms for each numerical feature. Inspect the observed distributions and then use MLE to plot, on the same figures, fits of the distributions.\n",
    "* For each pair of numerical feature, calculate correlations and indicate whether you find them significant. For select pairs, with significant correlations, draw joint plot with marginal histograms (see Seaborn joint plot) and find bivariate normal fits. Then use the example code below to draw plots of the bivariate pdfs (you may edit the code as you see fit).\n",
    "* Are there pairs that are significantly correlated in males but not in females? The opposite? How about healthy vs disease? Can you graphically represent this?\n",
    "* For each numerical feature, except age, plot the distribution for this feature against bins of age. In each bin provide a split violin plot, with different colors for healthy and disease.\n",
    "\n",
    "Suggest, state and address at least one original question.\n"
   ]
  },
  {
   "cell_type": "code",
   "execution_count": 1,
   "metadata": {},
   "outputs": [
    {
     "data": {
      "image/png": "[encoded data removed]",
      "text/plain": [
       "<Figure size 432x288 with 1 Axes>"
      ]
     },
     "metadata": {
      "needs_background": "light"
     },
     "output_type": "display_data"
    }
   ],
   "source": [
    "# Example code for bivariate pdfs\n",
    "from scipy.stats import multivariate_normal as mn\n",
    "import numpy as np\n",
    "import matplotlib.pyplot as plt\n",
    "%matplotlib inline\n",
    "\n",
    "def plot_2d_Gaussian_pdf(means, cov):\n",
    "    n = 100\n",
    "    x1 = np.linspace(means[0] - 3 * np.sqrt(cov[0][0]), means[0] + 3 * np.sqrt(cov[0][0]), n)\n",
    "    x2 = np.linspace(means[1] - 3 * np.sqrt(cov[1][1]), means[1] + 3 * np.sqrt(cov[1][1]), n)\n",
    "    x1_v, x2_v = np.meshgrid(x1, x2)\n",
    "    Xgrid = np.vstack([x1_v.ravel(), x2_v.ravel()]).T\n",
    "    Y = mn.pdf(Xgrid, means, cov)\n",
    "    fig, ax = plt.subplots()\n",
    "    ax.pcolorfast(x1, x2, Y.reshape(x1_v.shape), alpha=0.5, cmap='Blues')\n",
    "    ax.contour(x1_v, x2_v, Y.reshape(x1_v.shape),\n",
    "               levels=[0.05, 0.1, 0.15, 0.2], alpha=0.3, colors='b')\n",
    "    ax.axis('equal')\n",
    "    ax.grid(alpha=0.2)\n",
    "    plt.show()\n",
    "    \n",
    "means = [3, 2]\n",
    "cov = [[1, 0.5], [0.5, 0.8]]\n",
    "plot_2d_Gaussian_pdf(means, cov)"
   ]
  },
  {
   "cell_type": "markdown",
   "metadata": {},
   "source": [
    "### Question 3 - Heavy Tailed distributions (10 points)"
   ]
  },
  {
   "cell_type": "markdown",
   "metadata": {},
   "source": [
    "Recall the definition of Heavy Tailed distribtion from the lectures.\n",
    "\n",
    "*A distribution is said to have a heavy right tail if its tail probabilities vanish slower than any exponential*\n",
    "$$ \\forall t>0, \\lim_{x\\to\\infty} e^{tx}P(X>x)=\\infty $$"
   ]
  },
  {
   "cell_type": "markdown",
   "metadata": {},
   "source": [
    "#### 3.A\n",
    "Does the standard normal distribution have a heavy right tail? prove your answer."
   ]
  },
  {
   "cell_type": "markdown",
   "metadata": {},
   "source": [
    "#### 3.B\n",
    "Does the standard log-normal distribution have a heavy right tail? prove your answer."
   ]
  },
  {
   "cell_type": "markdown",
   "metadata": {},
   "source": [
    "### Question 4 - CLT for Markov chains (20 points)"
   ]
  },
  {
   "cell_type": "markdown",
   "metadata": {},
   "source": [
    "In this exercise you will construct trajectories of Markovian dice rolling results in the following way.<br>\n",
    "The first roll, $X_0$, is $U(1...6)$, i.e. $P(X_0=i)=\\pi_0(i)=1/6, \\forall i\\in{\\{1,..,6\\}}$<br>\n",
    "After i rolls are determined the $i+1^{st}, X_{i+1},$ is drawn according to the row that corresponds to the value of $X_i$ in the matrix $T$ below. <br>\n",
    "In other words, $T$ is the transition matrix of a Markov chain and the initial distribution is uniform.\n",
    "\n",
    "\\begin{equation*}\n",
    "T = \n",
    "\\begin{pmatrix}\n",
    "0.4 & 0.2 & 0.1 & 0 & 0.1 & 0.2 \\\\\n",
    "0.2 & 0.4 & 0.2 & 0.1 & 0 & 0.1 \\\\\n",
    "0.1 & 0.2 & 0.4 & 0.2 & 0.1 & 0 \\\\\n",
    "0 & 0.1 & 0.2 & 0.4 & 0.2 & 0.1 \\\\\n",
    "0.1 & 0 & 0.1 & 0.2 & 0.4 & 0.2 \\\\\n",
    "0.2 & 0.1 & 0 & 0.1 & 0.2 & 0.4\n",
    "\\end{pmatrix}\n",
    "\\end{equation*}"
   ]
  },
  {
   "cell_type": "markdown",
   "metadata": {},
   "source": [
    "#### 4.A\n",
    "Construct 1000 trajectories, each of length 30.\n",
    "1. What do you expect the average value of all 30 numbers in a trajectory to be?\n",
    "2. Compute the average value of each such trajectory. Draw a histogram of the 1000 numbers you received, using 20 bins.\n",
    "3. What does the distribution look like? What are the empirical mean and the std?"
   ]
  },
  {
   "cell_type": "markdown",
   "metadata": {},
   "source": [
    "##### 4.B\n",
    "Construct 1000 trajectories, each of length 500.\n",
    "1. What do you expect the average value of all 500 numbers in a trajectory to be?\n",
    "2. Compute the average value of each such trajectory. Draw a histogram of the 1000 numbers you received, using 20 bins.\n",
    "3. What does the distribution look like? What are the empirical mean and the std?"
   ]
  },
  {
   "cell_type": "markdown",
   "metadata": {},
   "source": [
    "#### 4.C\n",
    "Draw normal fit curves on your two histograms."
   ]
  },
  {
   "cell_type": "markdown",
   "metadata": {},
   "source": [
    "#### 4.D\n",
    "Write a python code to calculate $Cov(X_0,X_i)$ for $i=1,..,500$ based on $\\pi_0$ and $T$. \n",
    "\n",
    "Compute the values for our case."
   ]
  },
  {
   "cell_type": "markdown",
   "metadata": {},
   "source": [
    "#### 4.E - Bonus\n",
    "Let $\\bar{X_n}$ be the sample average for a single trajectory of length $n$.\n",
    "1. Show that **in our case**:\n",
    "$$E(\\bar{X_n}) =E(X_0)$$\n",
    "What is it in our case ($\\pi_0$ and $T$ as defined above)?\n",
    "2. Show that \n",
    "$$Var(\\bar{X_n}) = \\frac{1}{n}\\sigma_0^2 + \\frac{2}{n^2}\\sum_{d=1}^{n-1}(n-d)Cov(X_0, X_d)$$\n",
    "Calculate it for our case.\n",
    "3. Formulate the CLT for Markov Chains.\n",
    "4. Graphically show that the CLT holds for n=500 in our case."
   ]
  },
  {
   "cell_type": "markdown",
   "metadata": {},
   "source": [
    "### Question 5 - Sampling of Kendall correlation (15 points)"
   ]
  },
  {
   "cell_type": "markdown",
   "metadata": {},
   "source": [
    "Recall that the Naive time complexity of computing Kendall correlation is $O(n^2)$. We will investigate a sampling approach to approximate Kendall correlations efficiently. "
   ]
  },
  {
   "cell_type": "markdown",
   "metadata": {},
   "source": [
    "#### 5.A\n",
    "Draw a sample of 10M samples from a bivariate distribution $(X,Y)\\sim \\mathcal{N}(\\bf{0},S)$ with the covariance matrix $S=\\begin{pmatrix} 2 & 3\\\\ 3 & 5 \\end{pmatrix}$. <br>\n",
    "Calculate the Kendall correlation $\\tau(X,Y)$.\n",
    "How long did this calculation take?"
   ]
  },
  {
   "cell_type": "markdown",
   "metadata": {},
   "source": [
    "#### 5.B\n",
    "Sample 1,000 points from the data and calculate the Kendall correlation $\\tau(U,V)$. "
   ]
  },
  {
   "cell_type": "markdown",
   "metadata": {},
   "source": [
    "#### 5.C\n",
    "Repeat Section 5.B 1000 times and plot a histogram of the calculated $\\tau(U,V)$ values. Indicate the true $\\tau(X,Y)$ (calculated on the entire 10M samples) on the histogram. What are the empirical mean and stadard deviation of the calculated $\\tau(U,V)$ values?"
   ]
  },
  {
   "cell_type": "markdown",
   "metadata": {},
   "source": [
    "#### 5.D\n",
    "Repeat Section 5.C for samples of $m={10, 50, 100, 500, 1000, 5000}$ points. <br>\n",
    "What is the naive time complexity of each calculation? <br>\n",
    "Compare the empirical time complexity and the standard deviation of the calucated values to the size of the sample."
   ]
  },
  {
   "cell_type": "markdown",
   "metadata": {},
   "source": [
    "#### 5.E\n",
    "A coleague found an old dataset which she believes originated from the same popuation as the data in Section 5.A. The dataset is avaialble as \"Kendall_data.csv\". \n",
    "\n",
    "Using Kendall correlation and your answer to Section 5.D, how much confidence do you have in rejecting your coleague's claim? Explain your answer and show your calculation."
   ]
  }
 ],
 "metadata": {
  "kernelspec": {
   "display_name": "Python 3",
   "language": "python",
   "name": "python3"
  },
  "language_info": {
   "codemirror_mode": {
    "name": "ipython",
    "version": 3
   },
   "file_extension": ".py",
   "mimetype": "text/x-python",
   "name": "python",
   "nbconvert_exporter": "python",
   "pygments_lexer": "ipython3",
   "version": "3.8.5"
  }
 },
 "nbformat": 4,
 "nbformat_minor": 4
}
