{
 "cells": [
  {
   "cell_type": "markdown",
   "metadata": {},
   "source": [
    "### IDs:\n",
    "Insert yours IDs to the cell below"
   ]
  },
  {
   "cell_type": "markdown",
   "metadata": {},
   "source": [
    "ID #1: 301672028\n",
    "\n",
    "ID #2: 204502926\n"
   ]
  },
  {
   "cell_type": "markdown",
   "metadata": {},
   "source": [
    "## Read the following instructions carefully:\n",
    "\n",
    "1. This jupyter notebook contains all the step by step instructions needed for this exercise.\n",
    "1. You are free to add cells.\n",
    "1. Write your functions and your answers in this jupyter notebook only.\n",
    "1. Answers to theoretical questions should be written in **markdown cells (with $\\LaTeX$ support)**.\n",
    "1. Submit this jupyter notebook only using your ID as a filename. Not to use ZIP or RAR. For example, your Moodle submission file name should look like this (two id numbers): `123456789_987654321.ipynb`."
   ]
  },
  {
   "cell_type": "markdown",
   "metadata": {},
   "source": [
    "#### IMPORTS"
   ]
  },
  {
   "cell_type": "code",
   "execution_count": 706,
   "metadata": {},
   "outputs": [],
   "source": [
    "import pandas as pd\n",
    "import numpy as np\n",
    "import seaborn as sns\n",
    "import matplotlib.pyplot as plt\n",
    "from scipy import stats # pearsonr, kendalltau, spearmanr etc.\n",
    "import time"
   ]
  },
  {
   "cell_type": "markdown",
   "metadata": {},
   "source": [
    "### Question 1 - Correlations (15 points)"
   ]
  },
  {
   "cell_type": "markdown",
   "metadata": {},
   "source": [
    "Provide example datapoints matching the following descriptions. Each example should be constructed over n=50 datapoints. Provide a table description of the example data as well as a jointplot (see example below). \n",
    "If you think that the situation described is impossible then clearly explain why (you don’t need to give a rigorous proof).<br>\n",
    "Pearson(x,y) = Pearson correlation<br>\n",
    "τ(x,y) = Kendall rank correlation<br>\n",
    "ρ(x,y) = Spearman rank correlation <br>\n",
    "<img src=\"jointplot.png\">"
   ]
  },
  {
   "cell_type": "markdown",
   "metadata": {},
   "source": [
    "#### Answer:"
   ]
  },
  {
   "cell_type": "code",
   "execution_count": 2,
   "metadata": {},
   "outputs": [],
   "source": [
    "n = 50 # 50 datapoints\n",
    "\n",
    "def print_table_and_jointplot(x, y, d = True):\n",
    "    # table description of the example data\n",
    "    table = pd.DataFrame(np.vstack((x,y)).T, columns = ['x', 'y'])\n",
    "    \n",
    "    if d != False:\n",
    "        table['d_i'] = table['x'] - table['y']\n",
    "    \n",
    "    print(table)\n",
    "\n",
    "    p = sns.jointplot(data=table, x=x, y=y, marker='+')\n",
    "    p.fig.suptitle('x & y values JointPlot', fontsize=25)\n",
    "    p.fig.subplots_adjust(top=0.9) # Reduce plot to make room for title"
   ]
  },
  {
   "cell_type": "markdown",
   "metadata": {},
   "source": [
    "For each section, we create x and y vectors of size n each."
   ]
  },
  {
   "cell_type": "markdown",
   "metadata": {},
   "source": [
    "#### 1.A\n",
    "Data in which  $Pearson(x,y) < -0.9$ but where $n-1$ points can be selected so that for the vectors restricted to those we have $Pearson(x_{n-1},y_{n-1}) > -0.2$"
   ]
  },
  {
   "cell_type": "code",
   "execution_count": 3,
   "metadata": {},
   "outputs": [
    {
     "name": "stdout",
     "output_type": "stream",
     "text": [
      "Overall Pearson correlation between x & y is -0.999998000834983\n",
      "Excluding the last value of each, we get 1.0\n",
      "\n",
      "        x      y\n",
      "0   0.000  0.000\n",
      "1   0.000  0.000\n",
      "2   0.000  0.000\n",
      "3   0.000  0.000\n",
      "4   0.000  0.000\n",
      "5   0.000  0.000\n",
      "6   0.000  0.000\n",
      "7   0.000  0.000\n",
      "8   0.000  0.000\n",
      "9   0.000  0.000\n",
      "10  0.000  0.000\n",
      "11  0.000  0.000\n",
      "12  0.000  0.000\n",
      "13  0.000  0.000\n",
      "14  0.000  0.000\n",
      "15  0.000  0.000\n",
      "16  0.000  0.000\n",
      "17  0.000  0.000\n",
      "18  0.000  0.000\n",
      "19  0.000  0.000\n",
      "20  0.000  0.000\n",
      "21  0.000  0.000\n",
      "22  0.000  0.000\n",
      "23  0.000  0.000\n",
      "24  0.000  0.000\n",
      "25  0.000  0.000\n",
      "26  0.000  0.000\n",
      "27  0.000  0.000\n",
      "28  0.000  0.000\n",
      "29  0.000  0.000\n",
      "30  0.000  0.000\n",
      "31  0.000  0.000\n",
      "32  0.000  0.000\n",
      "33  0.000  0.000\n",
      "34  0.000  0.000\n",
      "35  0.000  0.000\n",
      "36  0.000  0.000\n",
      "37  0.000  0.000\n",
      "38  0.000  0.000\n",
      "39  0.000  0.000\n",
      "40  0.000  0.000\n",
      "41  0.000  0.000\n",
      "42  0.000  0.000\n",
      "43  0.000  0.000\n",
      "44  0.000  0.000\n",
      "45  0.000  0.000\n",
      "46  0.000  0.000\n",
      "47  0.000  0.000\n",
      "48  0.001  0.001\n",
      "49 -1.000  1.000\n"
     ]
    },
    {
     "data": {
      "image/png": "[encoded data removed]",
      "text/plain": [
       "<Figure size 432x432 with 3 Axes>"
      ]
     },
     "metadata": {
      "needs_background": "light"
     },
     "output_type": "display_data"
    }
   ],
   "source": [
    "x = np.zeros(n)\n",
    "y = np.zeros(n)\n",
    "\n",
    "x[n-2] = 0.001\n",
    "y[n-2] = 0.001\n",
    "\n",
    "# these are the last values we will exclude\n",
    "x[n-1] = -1\n",
    "y[n-1] = 1\n",
    "\n",
    "overall_correlation = stats.pearsonr(x, y)[0]\n",
    "partial_correlation = stats.pearsonr(x[:n-1], y[:n-1])[0]\n",
    "\n",
    "print(f'\\\n",
    "Overall Pearson correlation between x & y is {overall_correlation}\\n\\\n",
    "Excluding the last value of each, we get {partial_correlation}\\n')\n",
    "\n",
    "print_table_and_jointplot(x, y, d=False)"
   ]
  },
  {
   "cell_type": "markdown",
   "metadata": {},
   "source": [
    "#### 1.B\n",
    "Data with τ(x,y) > ρ(x,y) + 0.45"
   ]
  },
  {
   "cell_type": "markdown",
   "metadata": {},
   "source": [
    "***\n",
    "All n ranks are distinct integers, so Spearman can be computed with the popular formula:\n",
    "$$\n",
    "\\rho=1-\\frac{6 \\sum d_{i}^{2}}{n\\left(n^{2}-1\\right)}\n",
    "$$\n",
    "Where $d_i = rank(x_i) - rank(y_i)$<br>\n",
    "So in our case, we need to \"mess\" with it such that the ranks will not all increase together, so we split it to two increasing lines\n",
    "and therefore, the distances are quite large (all are of size 25, with pluses and minuses, see table below), so the correlation value will be relatively small.\n",
    "\n",
    "Kendall correlation simply subtracts the number of discordant from concordant pairs, so the squaring of d's in Spearman has a larger effect on the resulting correlation value.\n",
    "And also, there are many concordant pairs"
   ]
  },
  {
   "cell_type": "code",
   "execution_count": 4,
   "metadata": {},
   "outputs": [
    {
     "name": "stdout",
     "output_type": "stream",
     "text": [
      "Kendall correlation between x & y is -0.020408163265306124\n",
      "Spearman correlation between x & y is -0.5006002400960383\n",
      "Kendall > Spearman by 0.4801920768307322\n",
      "\n",
      "       x     y   d_i\n",
      "0    1.0  26.0 -25.0\n",
      "1    2.0  27.0 -25.0\n",
      "2    3.0  28.0 -25.0\n",
      "3    4.0  29.0 -25.0\n",
      "4    5.0  30.0 -25.0\n",
      "5    6.0  31.0 -25.0\n",
      "6    7.0  32.0 -25.0\n",
      "7    8.0  33.0 -25.0\n",
      "8    9.0  34.0 -25.0\n",
      "9   10.0  35.0 -25.0\n",
      "10  11.0  36.0 -25.0\n",
      "11  12.0  37.0 -25.0\n",
      "12  13.0  38.0 -25.0\n",
      "13  14.0  39.0 -25.0\n",
      "14  15.0  40.0 -25.0\n",
      "15  16.0  41.0 -25.0\n",
      "16  17.0  42.0 -25.0\n",
      "17  18.0  43.0 -25.0\n",
      "18  19.0  44.0 -25.0\n",
      "19  20.0  45.0 -25.0\n",
      "20  21.0  46.0 -25.0\n",
      "21  22.0  47.0 -25.0\n",
      "22  23.0  48.0 -25.0\n",
      "23  24.0  49.0 -25.0\n",
      "24  25.0  50.0 -25.0\n",
      "25  26.0   1.0  25.0\n",
      "26  27.0   2.0  25.0\n",
      "27  28.0   3.0  25.0\n",
      "28  29.0   4.0  25.0\n",
      "29  30.0   5.0  25.0\n",
      "30  31.0   6.0  25.0\n",
      "31  32.0   7.0  25.0\n",
      "32  33.0   8.0  25.0\n",
      "33  34.0   9.0  25.0\n",
      "34  35.0  10.0  25.0\n",
      "35  36.0  11.0  25.0\n",
      "36  37.0  12.0  25.0\n",
      "37  38.0  13.0  25.0\n",
      "38  39.0  14.0  25.0\n",
      "39  40.0  15.0  25.0\n",
      "40  41.0  16.0  25.0\n",
      "41  42.0  17.0  25.0\n",
      "42  43.0  18.0  25.0\n",
      "43  44.0  19.0  25.0\n",
      "44  45.0  20.0  25.0\n",
      "45  46.0  21.0  25.0\n",
      "46  47.0  22.0  25.0\n",
      "47  48.0  23.0  25.0\n",
      "48  49.0  24.0  25.0\n",
      "49  50.0  25.0  25.0\n"
     ]
    },
    {
     "data": {
      "image/png": "[encoded data removed]",
      "text/plain": [
       "<Figure size 432x432 with 3 Axes>"
      ]
     },
     "metadata": {
      "needs_background": "light"
     },
     "output_type": "display_data"
    }
   ],
   "source": [
    "x = np.arange(n) + 1\n",
    "y = np.empty(n)\n",
    "\n",
    "y[0:25] = (np.arange(25) + 1) + 25\n",
    "y[25:] = (np.arange(25) + 1)\n",
    "\n",
    "kendall_correlation = stats.kendalltau(x, y)[0]\n",
    "spearman_correlation = stats.spearmanr(x, y)[0]\n",
    "\n",
    "print(f'\\\n",
    "Kendall correlation between x & y is {kendall_correlation}\\n\\\n",
    "Spearman correlation between x & y is {spearman_correlation}\\n\\\n",
    "Kendall > Spearman by {kendall_correlation - spearman_correlation}\\n')\n",
    "\n",
    "print_table_and_jointplot(x, y)"
   ]
  },
  {
   "cell_type": "markdown",
   "metadata": {},
   "source": [
    "#### 1.C\n",
    "Data with τ(x,y) < ρ(x,y) – 0.45"
   ]
  },
  {
   "cell_type": "markdown",
   "metadata": {},
   "source": [
    "***\n",
    "Here, we reverse y values (change the slope from 1.B to its negative value) so the $d_i$'s are much smaller than those in section 1.B and thus the result is much larger (values are from 0-25, with pluses and minuses, see table below).<br>\n",
    "The concordant and discordant pairs here are exactly opposite to 1.B, hence the minus of Kendall's previous value."
   ]
  },
  {
   "cell_type": "code",
   "execution_count": 5,
   "metadata": {},
   "outputs": [
    {
     "name": "stdout",
     "output_type": "stream",
     "text": [
      "Kendall correlation between x & y is 0.020408163265306124\n",
      "Spearman correlation between x & y is 0.5006002400960383\n",
      "Kendall < Spearman by 0.4801920768307322\n",
      "\n",
      "       x     y   d_i\n",
      "0    1.0  25.0 -24.0\n",
      "1    2.0  24.0 -22.0\n",
      "2    3.0  23.0 -20.0\n",
      "3    4.0  22.0 -18.0\n",
      "4    5.0  21.0 -16.0\n",
      "5    6.0  20.0 -14.0\n",
      "6    7.0  19.0 -12.0\n",
      "7    8.0  18.0 -10.0\n",
      "8    9.0  17.0  -8.0\n",
      "9   10.0  16.0  -6.0\n",
      "10  11.0  15.0  -4.0\n",
      "11  12.0  14.0  -2.0\n",
      "12  13.0  13.0   0.0\n",
      "13  14.0  12.0   2.0\n",
      "14  15.0  11.0   4.0\n",
      "15  16.0  10.0   6.0\n",
      "16  17.0   9.0   8.0\n",
      "17  18.0   8.0  10.0\n",
      "18  19.0   7.0  12.0\n",
      "19  20.0   6.0  14.0\n",
      "20  21.0   5.0  16.0\n",
      "21  22.0   4.0  18.0\n",
      "22  23.0   3.0  20.0\n",
      "23  24.0   2.0  22.0\n",
      "24  25.0   1.0  24.0\n",
      "25  26.0  50.0 -24.0\n",
      "26  27.0  49.0 -22.0\n",
      "27  28.0  48.0 -20.0\n",
      "28  29.0  47.0 -18.0\n",
      "29  30.0  46.0 -16.0\n",
      "30  31.0  45.0 -14.0\n",
      "31  32.0  44.0 -12.0\n",
      "32  33.0  43.0 -10.0\n",
      "33  34.0  42.0  -8.0\n",
      "34  35.0  41.0  -6.0\n",
      "35  36.0  40.0  -4.0\n",
      "36  37.0  39.0  -2.0\n",
      "37  38.0  38.0   0.0\n",
      "38  39.0  37.0   2.0\n",
      "39  40.0  36.0   4.0\n",
      "40  41.0  35.0   6.0\n",
      "41  42.0  34.0   8.0\n",
      "42  43.0  33.0  10.0\n",
      "43  44.0  32.0  12.0\n",
      "44  45.0  31.0  14.0\n",
      "45  46.0  30.0  16.0\n",
      "46  47.0  29.0  18.0\n",
      "47  48.0  28.0  20.0\n",
      "48  49.0  27.0  22.0\n",
      "49  50.0  26.0  24.0\n"
     ]
    },
    {
     "data": {
      "image/png": "[encoded data removed]",
      "text/plain": [
       "<Figure size 432x432 with 3 Axes>"
      ]
     },
     "metadata": {
      "needs_background": "light"
     },
     "output_type": "display_data"
    }
   ],
   "source": [
    "x = np.arange(n) + 1\n",
    "y = np.empty(n)\n",
    "\n",
    "y[0:25] = (np.arange(25) + 1)[::-1] # reverse -> number are decreasing\n",
    "y[25:] = (np.arange(25) + 1)[::-1] + 25\n",
    "\n",
    "kendall_correlation = stats.kendalltau(x, y)[0]\n",
    "spearman_correlation = stats.spearmanr(x, y)[0]\n",
    "\n",
    "print(f'\\\n",
    "Kendall correlation between x & y is {kendall_correlation}\\n\\\n",
    "Spearman correlation between x & y is {spearman_correlation}\\n\\\n",
    "Kendall < Spearman by {spearman_correlation - kendall_correlation}\\n')\n",
    "\n",
    "print_table_and_jointplot(x, y)"
   ]
  },
  {
   "cell_type": "markdown",
   "metadata": {},
   "source": [
    "#### 1.D\n",
    "Data with Pearson(x,y) < ρ(x,y) – 0.6"
   ]
  },
  {
   "cell_type": "markdown",
   "metadata": {},
   "source": [
    "***\n",
    "Pearson \"seeks\" perfect linearity between x and y (in order to be 1 or -1 for example), while Spearman cares only for the order of the ranks.<br>\n",
    "So we can simply make the graph non-linear monotonically increasing.\n",
    "\n",
    "We saw a similar example in class (lecture \"p-Values and introduction to correlations\", slide 37)."
   ]
  },
  {
   "cell_type": "code",
   "execution_count": 8,
   "metadata": {},
   "outputs": [
    {
     "name": "stdout",
     "output_type": "stream",
     "text": [
      "Pearson correlation between x & y is 0.3525162104692502\n",
      "Spearman correlation between x & y is 0.9565343606966125\n",
      "Pearson < Spearman by 0.6040181502273623\n",
      "\n",
      "       x             y           d_i\n",
      "0    1.0  0.000000e+00  1.000000e+00\n",
      "1    2.0  0.000000e+00  2.000000e+00\n",
      "2    3.0  0.000000e+00  3.000000e+00\n",
      "3    4.0  0.000000e+00  4.000000e+00\n",
      "4    5.0  0.000000e+00  5.000000e+00\n",
      "5    6.0  0.000000e+00  6.000000e+00\n",
      "6    7.0  0.000000e+00  7.000000e+00\n",
      "7    8.0  0.000000e+00  8.000000e+00\n",
      "8    9.0  0.000000e+00  9.000000e+00\n",
      "9   10.0  0.000000e+00  1.000000e+01\n",
      "10  11.0  0.000000e+00  1.100000e+01\n",
      "11  12.0  0.000000e+00  1.200000e+01\n",
      "12  13.0  0.000000e+00  1.300000e+01\n",
      "13  14.0  0.000000e+00  1.400000e+01\n",
      "14  15.0  0.000000e+00  1.500000e+01\n",
      "15  16.0  0.000000e+00  1.600000e+01\n",
      "16  17.0  0.000000e+00  1.700000e+01\n",
      "17  18.0  0.000000e+00  1.800000e+01\n",
      "18  19.0  0.000000e+00  1.900000e+01\n",
      "19  20.0  0.000000e+00  2.000000e+01\n",
      "20  21.0  0.000000e+00  2.100000e+01\n",
      "21  22.0  0.000000e+00  2.200000e+01\n",
      "22  23.0  1.000000e+00  2.200000e+01\n",
      "23  24.0  2.718282e+00  2.128172e+01\n",
      "24  25.0  7.389056e+00  1.761094e+01\n",
      "25  26.0  2.008554e+01  5.914463e+00\n",
      "26  27.0  5.459815e+01 -2.759815e+01\n",
      "27  28.0  1.484132e+02 -1.204132e+02\n",
      "28  29.0  4.034288e+02 -3.744288e+02\n",
      "29  30.0  1.096633e+03 -1.066633e+03\n",
      "30  31.0  2.980958e+03 -2.949958e+03\n",
      "31  32.0  8.103084e+03 -8.071084e+03\n",
      "32  33.0  2.202647e+04 -2.199347e+04\n",
      "33  34.0  5.987414e+04 -5.984014e+04\n",
      "34  35.0  1.627548e+05 -1.627198e+05\n",
      "35  36.0  4.424134e+05 -4.423774e+05\n",
      "36  37.0  1.202604e+06 -1.202567e+06\n",
      "37  38.0  3.269017e+06 -3.268979e+06\n",
      "38  39.0  8.886111e+06 -8.886072e+06\n",
      "39  40.0  2.415495e+07 -2.415491e+07\n",
      "40  41.0  6.565997e+07 -6.565993e+07\n",
      "41  42.0  1.784823e+08 -1.784823e+08\n",
      "42  43.0  4.851652e+08 -4.851652e+08\n",
      "43  44.0  1.318816e+09 -1.318816e+09\n",
      "44  45.0  3.584913e+09 -3.584913e+09\n",
      "45  46.0  9.744803e+09 -9.744803e+09\n",
      "46  47.0  2.648912e+10 -2.648912e+10\n",
      "47  48.0  7.200490e+10 -7.200490e+10\n",
      "48  49.0  1.957296e+11 -1.957296e+11\n",
      "49  50.0  5.320482e+11 -5.320482e+11\n"
     ]
    },
    {
     "data": {
      "image/png": "[encoded data removed]",
      "text/plain": [
       "<Figure size 432x432 with 3 Axes>"
      ]
     },
     "metadata": {
      "needs_background": "light"
     },
     "output_type": "display_data"
    }
   ],
   "source": [
    "x = np.arange(n) + 1\n",
    "y = np.zeros(n)\n",
    "\n",
    "# When passing x, it takes too long to run, and a tail of 28 (n - index) is enough for the desired difference\n",
    "index = 22\n",
    "y[index:] = np.exp((np.arange(n - index)))\n",
    "\n",
    "pearson_correlation = stats.pearsonr(x, y)[0]\n",
    "spearman_correlation = stats.spearmanr(x, y)[0]\n",
    "\n",
    "print(f'\\\n",
    "Pearson correlation between x & y is {pearson_correlation}\\n\\\n",
    "Spearman correlation between x & y is {spearman_correlation}\\n\\\n",
    "Pearson < Spearman by {spearman_correlation - pearson_correlation}\\n')\n",
    "\n",
    "print_table_and_jointplot(x, y)"
   ]
  },
  {
   "cell_type": "markdown",
   "metadata": {},
   "source": [
    "#### 1.E\n",
    "Data with Pearson(x,y) > ρ(x,y) + 1.2"
   ]
  },
  {
   "cell_type": "markdown",
   "metadata": {},
   "source": [
    "***\n",
    "A little bit of playing with numbers, but in general, the goal was for x and y to be **linearly increasing** for Pearson to have a high-enough value (and so their ranks are also ordered for Spearman),<br>\n",
    "but for the distance, $d$, between corresponding ranks to be large and for one entry to be extremely detached - this will \"hurt\" Spearman more than Pearson, because Spearman is more sensitive to a big mismatch (unorder) in the data,<br>"
   ]
  },
  {
   "cell_type": "code",
   "execution_count": 7,
   "metadata": {},
   "outputs": [
    {
     "name": "stdout",
     "output_type": "stream",
     "text": [
      "Pearson correlation between x & y is 0.41839142784428485\n",
      "Spearman correlation between x & y is -0.8823529411764706\n",
      "Pearson > Spearman by 1.3007443690207554\n",
      "\n",
      "        x          y        d_i\n",
      "0     1.0   1.000000   0.000000\n",
      "1     2.0   0.979592   1.020408\n",
      "2     3.0   0.959184   2.040816\n",
      "3     4.0   0.938776   3.061224\n",
      "4     5.0   0.918367   4.081633\n",
      "5     6.0   0.897959   5.102041\n",
      "6     7.0   0.877551   6.122449\n",
      "7     8.0   0.857143   7.142857\n",
      "8     9.0   0.836735   8.163265\n",
      "9    10.0   0.816327   9.183673\n",
      "10   11.0   0.795918  10.204082\n",
      "11   12.0   0.775510  11.224490\n",
      "12   13.0   0.755102  12.244898\n",
      "13   14.0   0.734694  13.265306\n",
      "14   15.0   0.714286  14.285714\n",
      "15   16.0   0.693878  15.306122\n",
      "16   17.0   0.673469  16.326531\n",
      "17   18.0   0.653061  17.346939\n",
      "18   19.0   0.632653  18.367347\n",
      "19   20.0   0.612245  19.387755\n",
      "20   21.0   0.591837  20.408163\n",
      "21   22.0   0.571429  21.428571\n",
      "22   23.0   0.551020  22.448980\n",
      "23   24.0   0.530612  23.469388\n",
      "24   25.0   0.510204  24.489796\n",
      "25   26.0   0.489796  25.510204\n",
      "26   27.0   0.469388  26.530612\n",
      "27   28.0   0.448980  27.551020\n",
      "28   29.0   0.428571  28.571429\n",
      "29   30.0   0.408163  29.591837\n",
      "30   31.0   0.387755  30.612245\n",
      "31   32.0   0.367347  31.632653\n",
      "32   33.0   0.346939  32.653061\n",
      "33   34.0   0.326531  33.673469\n",
      "34   35.0   0.306122  34.693878\n",
      "35   36.0   0.285714  35.714286\n",
      "36   37.0   0.265306  36.734694\n",
      "37   38.0   0.244898  37.755102\n",
      "38   39.0   0.224490  38.775510\n",
      "39   40.0   0.204082  39.795918\n",
      "40   41.0   0.183673  40.816327\n",
      "41   42.0   0.163265  41.836735\n",
      "42   43.0   0.142857  42.857143\n",
      "43   44.0   0.122449  43.877551\n",
      "44   45.0   0.102041  44.897959\n",
      "45   46.0   0.081633  45.918367\n",
      "46   47.0   0.061224  46.938776\n",
      "47   48.0   0.040816  47.959184\n",
      "48   49.0   0.020408  48.979592\n",
      "49  100.0  10.000000  90.000000\n"
     ]
    },
    {
     "data": {
      "image/png": "[encoded data removed]",
      "text/plain": [
       "<Figure size 432x432 with 3 Axes>"
      ]
     },
     "metadata": {
      "needs_background": "light"
     },
     "output_type": "display_data"
    }
   ],
   "source": [
    "x = np.arange(n) + 1\n",
    "y = np.linspace(0, 1, num=n)[::-1]\n",
    "\n",
    "x[n-1] = 100\n",
    "y[n-1] = 10\n",
    "\n",
    "pearson_correlation = stats.pearsonr(x, y)[0]\n",
    "spearman_correlation = stats.spearmanr(x, y)[0]\n",
    "\n",
    "print(f'\\\n",
    "Pearson correlation between x & y is {pearson_correlation}\\n\\\n",
    "Spearman correlation between x & y is {spearman_correlation}\\n\\\n",
    "Pearson > Spearman by {pearson_correlation - spearman_correlation}\\n')\n",
    "\n",
    "print_table_and_jointplot(x, y)"
   ]
  },
  {
   "cell_type": "markdown",
   "metadata": {},
   "source": [
    "#### 1.F\n",
    "Data with τ(x,y) < ρ(x,y) – 1.2 "
   ]
  },
  {
   "cell_type": "markdown",
   "metadata": {},
   "source": [
    "The situation described is impossible because a difference bigger than 1 indicates that the 2 correlation values have a different sign (since they can only be in the range [-1,1]).<br>\n",
    "Since both Kendall and Spearman correlation measures are rank-based, there is no scenario where they can have a different sign."
   ]
  },
  {
   "cell_type": "markdown",
   "metadata": {},
   "source": [
    "### Question 2 - Analysis of the UCI Heart Disease dataset  (40 points)"
   ]
  },
  {
   "cell_type": "markdown",
   "metadata": {},
   "source": [
    "Perform data analysis on the UCI Heart Disease Dataset\n",
    "References:\n",
    "1. Detrano, R., Janosi, A., Steinbrunn, W., Pfisterer, M., Schmid, J., Sandhu, S., Guppy, K., Lee, S., & Froelicher, V. (1989). International application of a new probability algorithm for the diagnosis of coronary artery disease. American Journal of Cardiology, 64,304--310.\n",
    "2. David W. Aha & Dennis Kibler. \"Instance-based prediction of heart-disease presence with the Cleveland database.\"\n",
    "3. Gennari, J.H., Langley, P, & Fisher, D. (1989). Models of incremental concept formation. Artificial Intelligence, 40, 11--61.\n",
    "\n",
    "Use the following links to find the details of the data: \n",
    "1. https://archive.ics.uci.edu/ml/datasets/heart+disease\n",
    "2. https://www.kaggle.com/ronitf/heart-disease-uci\n",
    "\n",
    "In the follwong cells write a report for your analysis. In your report provide a clear description of the analysis methods and of the results. This should include a graphical representation of the results and the conclusions. Provide p-values or other indicators of the statistical significance where appropriate. <br>\n",
    "Design your report to be concise but still cover interesting findings.\n",
    "\n",
    "There are missing values in the data. Find them and impute them by using the median (for numerical features) or the mode (for categorical features) value of the relevant feature (column).\n",
    "Address the following questions:\n",
    "* Using confidence intervals determine for which numerical features you can state with confidence of 95% that the healthy population (target = 0) mean is larger/smaller than the disease population (target = 1) mean. \n",
    "* Draw histograms for each numerical feature. Inspect the observed distributions and then use MLE to plot, on the same figures, fits of the distributions.\n",
    "* For each pair of numerical feature, calculate correlations and indicate whether you find them significant. For select pairs, with significant correlations, draw joint plot with marginal histograms (see Seaborn joint plot) and find bivariate normal fits. Then use the example code below to draw plots of the bivariate pdfs (you may edit the code as you see fit).\n",
    "* Are there pairs that are significantly correlated in males but not in females? The opposite? How about healthy vs disease? Can you graphically represent this?\n",
    "* For each numerical feature, except age, plot the distribution for this feature against bins of age. In each bin provide a split violin plot, with different colors for healthy and disease.\n",
    "\n",
    "Suggest, state and address at least one original question.\n"
   ]
  },
  {
   "cell_type": "code",
   "execution_count": 1,
   "metadata": {},
   "outputs": [
    {
     "data": {
      "image/png": "[encoded data removed]",
      "text/plain": [
       "<Figure size 432x288 with 1 Axes>"
      ]
     },
     "metadata": {
      "needs_background": "light"
     },
     "output_type": "display_data"
    }
   ],
   "source": [
    "# Example code for bivariate pdfs\n",
    "from scipy.stats import multivariate_normal as mn\n",
    "import numpy as np\n",
    "import matplotlib.pyplot as plt\n",
    "%matplotlib inline\n",
    "\n",
    "def plot_2d_Gaussian_pdf(means, cov):\n",
    "    n = 100\n",
    "    x1 = np.linspace(means[0] - 3 * np.sqrt(cov[0][0]), means[0] + 3 * np.sqrt(cov[0][0]), n)\n",
    "    x2 = np.linspace(means[1] - 3 * np.sqrt(cov[1][1]), means[1] + 3 * np.sqrt(cov[1][1]), n)\n",
    "    x1_v, x2_v = np.meshgrid(x1, x2)\n",
    "    Xgrid = np.vstack([x1_v.ravel(), x2_v.ravel()]).T\n",
    "    Y = mn.pdf(Xgrid, means, cov)\n",
    "    fig, ax = plt.subplots()\n",
    "    ax.pcolorfast(x1, x2, Y.reshape(x1_v.shape), alpha=0.5, cmap='Blues')\n",
    "    ax.contour(x1_v, x2_v, Y.reshape(x1_v.shape),\n",
    "               levels=[0.05, 0.1, 0.15, 0.2], alpha=0.3, colors='b')\n",
    "    ax.axis('equal')\n",
    "    ax.grid(alpha=0.2)\n",
    "    plt.show()\n",
    "    \n",
    "means = [3, 2]\n",
    "cov = [[1, 0.5], [0.5, 0.8]]\n",
    "plot_2d_Gaussian_pdf(means, cov)"
   ]
  },
  {
   "cell_type": "markdown",
   "metadata": {},
   "source": [
    "### Question 3 - Heavy Tailed distributions (10 points)"
   ]
  },
  {
   "cell_type": "markdown",
   "metadata": {},
   "source": [
    "Recall the definition of Heavy Tailed distribtion from the lectures.\n",
    "\n",
    "*A distribution is said to have a heavy right tail if its tail probabilities vanish slower than any exponential*\n",
    "$$ \\forall t>0, \\lim_{x\\to\\infty} e^{tx}P(X>x)=\\infty $$"
   ]
  },
  {
   "cell_type": "markdown",
   "metadata": {},
   "source": [
    "#### 3.A\n",
    "Does the standard normal distribution have a heavy right tail? prove your answer."
   ]
  },
  {
   "cell_type": "markdown",
   "metadata": {},
   "source": [
    "#### 3.B\n",
    "Does the standard log-normal distribution have a heavy right tail? prove your answer."
   ]
  },
  {
   "cell_type": "markdown",
   "metadata": {},
   "source": [
    "### Question 4 - CLT for Markov chains (20 points)"
   ]
  },
  {
   "cell_type": "markdown",
   "metadata": {},
   "source": [
    "In this exercise you will construct trajectories of Markovian dice rolling results in the following way.<br>\n",
    "The first roll, $X_0$, is $U(1...6)$, i.e. $P(X_0=i)=\\pi_0(i)=1/6, \\forall i\\in{\\{1,..,6\\}}$<br>\n",
    "After i rolls are determined the $i+1^{st}, X_{i+1},$ is drawn according to the row that corresponds to the value of $X_i$ in the matrix $T$ below. <br>\n",
    "In other words, $T$ is the transition matrix of a Markov chain and the initial distribution is uniform.\n",
    "\n",
    "\\begin{equation*}\n",
    "T = \n",
    "\\begin{pmatrix}\n",
    "0.4 & 0.2 & 0.1 & 0 & 0.1 & 0.2 \\\\\n",
    "0.2 & 0.4 & 0.2 & 0.1 & 0 & 0.1 \\\\\n",
    "0.1 & 0.2 & 0.4 & 0.2 & 0.1 & 0 \\\\\n",
    "0 & 0.1 & 0.2 & 0.4 & 0.2 & 0.1 \\\\\n",
    "0.1 & 0 & 0.1 & 0.2 & 0.4 & 0.2 \\\\\n",
    "0.2 & 0.1 & 0 & 0.1 & 0.2 & 0.4\n",
    "\\end{pmatrix}\n",
    "\\end{equation*}"
   ]
  },
  {
   "cell_type": "code",
   "execution_count": 628,
   "metadata": {},
   "outputs": [
    {
     "name": "stdout",
     "output_type": "stream",
     "text": [
      "T:\n",
      "[[0.4 0.2 0.1 0.  0.1 0.2]\n",
      " [0.2 0.4 0.2 0.1 0.  0.1]\n",
      " [0.1 0.2 0.4 0.2 0.1 0. ]\n",
      " [0.  0.1 0.2 0.4 0.2 0.1]\n",
      " [0.1 0.  0.1 0.2 0.4 0.2]\n",
      " [0.2 0.1 0.  0.1 0.2 0.4]]\n"
     ]
    }
   ],
   "source": [
    "# Build T\n",
    "T = []\n",
    "row = [0.4, 0.2, 0.1, 0, 0.1, 0.2]\n",
    "\n",
    "for i in range(len(row) - 1):\n",
    "    T.append(row)\n",
    "    row = [row[len(row) -1]] + row[:-1]\n",
    "T.append(row)\n",
    "\n",
    "T = np.matrix(T)\n",
    "print(f'T:\\n{T}')\n",
    "###\n",
    "\n",
    "initial_probabilities = np.ones(6) / 6 # [1/6, ..., 1/6]\n",
    "possible_values = np.arange(1, 7, 1) # 1 to 6"
   ]
  },
  {
   "cell_type": "markdown",
   "metadata": {},
   "source": [
    "#### 4.A\n",
    "Construct 1000 trajectories, each of length 30.\n",
    "1. What do you expect the average value of all 30 numbers in a trajectory to be?\n",
    "2. Compute the average value of each such trajectory. Draw a histogram of the 1000 numbers you received, using 20 bins.\n",
    "3. What does the distribution look like? What are the empirical mean and the std?\n",
    "***"
   ]
  },
  {
   "cell_type": "markdown",
   "metadata": {},
   "source": [
    "1. We expect the average value of all 30 numbers in a trajectory to be 3.5 because we simply roll a fair die 30 times, and 3.5 is the avrage result of it."
   ]
  },
  {
   "cell_type": "code",
   "execution_count": 665,
   "metadata": {},
   "outputs": [],
   "source": [
    "# 2\n",
    "\n",
    "np.random.seed(0) # for consistency\n",
    "\n",
    "\n",
    "def compute_trajectory(length):\n",
    "    probabilities = initial_probabilities # the initial distribution is uniform and only after it changes\n",
    "    trajectory = np.zeros(length).astype(int)\n",
    "    \n",
    "    for i in range(length):\n",
    "        trajectory[i] = np.random.choice(possible_values, p = probabilities) # We take a random result for the toss, given the current probabilities for the current X_i\n",
    "        probabilities = np.array(T[trajectory[i] - 1]).ravel() # override previous probabilites with the next probabilities in current row in T\n",
    "    \n",
    "    return trajectory\n",
    "\n",
    "\n",
    "def compute_averages_and_plot(trajectories = 1000, length = 30):\n",
    "    trajectories_list = []\n",
    "\n",
    "    for i in range(trajectories):\n",
    "        trajectories_list.append(compute_trajectory(length))\n",
    "\n",
    "    # The average value of each such trajectory\n",
    "    averages = np.average(trajectories_list, axis = 1)\n",
    "\n",
    "    # Draw a histogram of the 1000 numbers you received, using 20 bins\n",
    "    fig = plt.figure(figsize=(22, 6))\n",
    "    plt.hist(averages, bins=20, density=True, label='Trajectories averages')\n",
    "\n",
    "    mean = np.mean(averages)\n",
    "    std = np.std(averages)\n",
    "\n",
    "    # we plot also a Normal Dist. curve with the same mean and std to show similarity with our results\n",
    "    x = np.linspace(np.min(averages), np.max(averages))\n",
    "    y = stats.norm.pdf(x, mean, std) \n",
    "    plt.plot(x, y, label='Normal Distribution curve')\n",
    "\n",
    "    # plt.ylabel('???', fontsize=13)\n",
    "    plt.xlabel('Average value', fontsize=13)\n",
    "    plt.title('Trajectories averages histogram', fontsize=20)\n",
    "    plt.legend(loc='upper left')\n",
    "    plt.show()\n",
    "    \n",
    "    return averages, mean, std"
   ]
  },
  {
   "cell_type": "code",
   "execution_count": 666,
   "metadata": {},
   "outputs": [
    {
     "data": {
      "image/png": "[encoded data removed]",
      "text/plain": [
       "<Figure size 1584x432 with 1 Axes>"
      ]
     },
     "metadata": {
      "needs_background": "light"
     },
     "output_type": "display_data"
    }
   ],
   "source": [
    "a_averages, a_mean, a_std = compute_averages_and_plot(trajectories = 1000, length = 30)"
   ]
  },
  {
   "cell_type": "markdown",
   "metadata": {},
   "source": [
    "3. The distribution looks like the Normal distribution, and as we know - all distributions tend to converge to the Normal Distribution with enough samples becasue of the Central Limit Theorem.<br>\n",
    "So the CLT is also true to Markov chains, as Zohar stated in class."
   ]
  },
  {
   "cell_type": "code",
   "execution_count": 672,
   "metadata": {},
   "outputs": [
    {
     "name": "stdout",
     "output_type": "stream",
     "text": [
      "A.\n",
      "The empirical mean is 3.4820666666666664 which is very close to our initial estimate of 3.5.\n",
      "The empirical std is 0.47714958753926306\n"
     ]
    }
   ],
   "source": [
    "print(f'A.\\nThe empirical mean is {a_mean} which is very close to our initial estimate of 3.5.\\nThe empirical std is {a_std}')"
   ]
  },
  {
   "cell_type": "markdown",
   "metadata": {},
   "source": [
    "##### 4.B\n",
    "Construct 1000 trajectories, each of length 500.\n",
    "1. What do you expect the average value of all 500 numbers in a trajectory to be?\n",
    "2. Compute the average value of each such trajectory. Draw a histogram of the 1000 numbers you received, using 20 bins.\n",
    "3. What does the distribution look like? What are the empirical mean and the std?"
   ]
  },
  {
   "cell_type": "code",
   "execution_count": 668,
   "metadata": {},
   "outputs": [
    {
     "data": {
      "image/png": "[encoded data removed]",
      "text/plain": [
       "<Figure size 1584x432 with 1 Axes>"
      ]
     },
     "metadata": {
      "needs_background": "light"
     },
     "output_type": "display_data"
    }
   ],
   "source": [
    "b_averages, b_mean, b_std = compute_averages_and_plot(trajectories = 1000, length = 500)"
   ]
  },
  {
   "cell_type": "markdown",
   "metadata": {},
   "source": [
    "3. Same as 4A.2"
   ]
  },
  {
   "cell_type": "code",
   "execution_count": 673,
   "metadata": {},
   "outputs": [
    {
     "name": "stdout",
     "output_type": "stream",
     "text": [
      "B.\n",
      "The empirical mean is 3.50072 which is very close to our initial estimate of 3.5.\n",
      "The empirical std is 0.118868438199549\n"
     ]
    }
   ],
   "source": [
    "print(f'B.\\nThe empirical mean is {b_mean} which is very close to our initial estimate of 3.5.\\nThe empirical std is {b_std}')"
   ]
  },
  {
   "cell_type": "markdown",
   "metadata": {},
   "source": [
    "#### 4.C\n",
    "Draw normal fit curves on your two histograms."
   ]
  },
  {
   "cell_type": "code",
   "execution_count": 676,
   "metadata": {},
   "outputs": [],
   "source": [
    "# Done in the previous sections. Please see plots above."
   ]
  },
  {
   "cell_type": "markdown",
   "metadata": {},
   "source": [
    "#### 4.D\n",
    "Write a python code to calculate $Cov(X_0,X_i)$ for $i=1,..,500$ based on $\\pi_0$ and $T$. \n",
    "\n",
    "Compute the values for our case."
   ]
  },
  {
   "cell_type": "markdown",
   "metadata": {},
   "source": [
    "***\n",
    "We'll calculate using the formula of Covariance:\n",
    "$$\n",
    "Cov(X, Y) = E(XY) - E(X)E(Y)\n",
    "$$\n",
    "\n",
    "For each $X_i$ we can calculate $E(X_i)$ from the corresonding row in T[i]....\n",
    "\n",
    "In order to calculate $E(X_0X_i)$ we need to <br>\n",
    "Our initial distribution vector is $\\pi_0 = [1, 2, 3, 4, 5, 6]$<br>\n",
    "$\\pi_k = \\pi_0 * T^k$<br>\n",
    "$T^{(k)} = T^k$<br>\n",
    "\n",
    "This Stochastic process is **stationary** since for every row $t \\in T$, the distribution of any finite set of variables $(X_{i1}, X_{i2}, ..., X_{ir})$ is the same as the distribution of $(X_{i1+t}, X_{i2+t}, ..., X_{ir+t})$"
   ]
  },
  {
   "cell_type": "code",
   "execution_count": 730,
   "metadata": {},
   "outputs": [
    {
     "name": "stdout",
     "output_type": "stream",
     "text": [
      "pi_0 = [0.16666667 0.16666667 0.16666667 0.16666667 0.16666667 0.16666667]\n",
      "result = [[0.16666667 0.16666667 0.16666667 0.16666667 0.16666667 0.16666667]]\n"
     ]
    }
   ],
   "source": [
    "pi_0 = initial_probabilities\n",
    "result = np.matmul(pi_0, T) # sanity check that the process is indeed stationary - we expect to see the same values before and after multiplication\n",
    "print(f'pi_0 = {pi_0}\\nresult = {result}')"
   ]
  },
  {
   "cell_type": "code",
   "execution_count": 734,
   "metadata": {},
   "outputs": [
    {
     "data": {
      "text/plain": [
       "array([0.16666667, 0.16666667, 0.16666667, 0.16666667, 0.16666667,\n",
       "       0.16666667])"
      ]
     },
     "execution_count": 734,
     "metadata": {},
     "output_type": "execute_result"
    }
   ],
   "source": [
    "pi_2 = np.matmul(pi_0, T**2)\n",
    "pi_2 = np.array(pi_2).ravel()\n",
    "mean_2 = np.mean(pi_2)\n",
    "pi_2"
   ]
  },
  {
   "cell_type": "code",
   "execution_count": 686,
   "metadata": {},
   "outputs": [
    {
     "ename": "SyntaxError",
     "evalue": "invalid syntax (<ipython-input-686-77fa1d2c05bd>, line 2)",
     "output_type": "error",
     "traceback": [
      "\u001b[1;36m  File \u001b[1;32m\"<ipython-input-686-77fa1d2c05bd>\"\u001b[1;36m, line \u001b[1;32m2\u001b[0m\n\u001b[1;33m    expecatiton_x =\u001b[0m\n\u001b[1;37m                    ^\u001b[0m\n\u001b[1;31mSyntaxError\u001b[0m\u001b[1;31m:\u001b[0m invalid syntax\n"
     ]
    }
   ],
   "source": [
    "def covariance(x, y):\n",
    "    expecatiton_x = \n",
    "    expecatiton_y = \n",
    "    expecatiton_xy = \n",
    "    \n",
    "    return expecatiton_xy - expecatiton_x*expecatiton_y"
   ]
  },
  {
   "cell_type": "markdown",
   "metadata": {},
   "source": [
    "#### 4.E - Bonus\n",
    "Let $\\bar{X_n}$ be the sample average for a single trajectory of length $n$.\n",
    "1. Show that **in our case**:\n",
    "$$E(\\bar{X_n}) =E(X_0)$$\n",
    "What is it in our case ($\\pi_0$ and $T$ as defined above)?\n",
    "2. Show that \n",
    "$$Var(\\bar{X_n}) = \\frac{1}{n}\\sigma_0^2 + \\frac{2}{n^2}\\sum_{d=1}^{n-1}(n-d)Cov(X_0, X_d)$$\n",
    "Calculate it for our case.\n",
    "3. Formulate the CLT for Markov Chains.\n",
    "4. Graphically show that the CLT holds for n=500 in our case."
   ]
  },
  {
   "cell_type": "code",
   "execution_count": null,
   "metadata": {},
   "outputs": [],
   "source": []
  },
  {
   "cell_type": "markdown",
   "metadata": {},
   "source": [
    "### Question 5 - Sampling of Kendall correlation (15 points)"
   ]
  },
  {
   "cell_type": "markdown",
   "metadata": {},
   "source": [
    "Recall that the Naive time complexity of computing Kendall correlation is $O(n^2)$. We will investigate a sampling approach to approximate Kendall correlations efficiently. "
   ]
  },
  {
   "cell_type": "markdown",
   "metadata": {},
   "source": [
    "#### 5.A\n",
    "Draw a sample of 10M samples from a bivariate distribution $(X,Y)\\sim \\mathcal{N}(\\bf{0},S)$ with the covariance matrix $S=\\begin{pmatrix} 2 & 3\\\\ 3 & 5 \\end{pmatrix}$. <br>\n",
    "Calculate the Kendall correlation $\\tau(X,Y)$.\n",
    "How long did this calculation take?"
   ]
  },
  {
   "cell_type": "code",
   "execution_count": 678,
   "metadata": {},
   "outputs": [
    {
     "name": "stdout",
     "output_type": "stream",
     "text": [
      "Run time = 5.412463665008545 seconds\n",
      "Kendall Correlation tau = 0.7951800898266891\n"
     ]
    }
   ],
   "source": [
    "mean = [0, 0]\n",
    "S = [[2, 3], [3, 5]]\n",
    "n = 10 ** 7\n",
    "\n",
    "start_time = time.time()\n",
    "\n",
    "x, y = np.random.multivariate_normal(mean, S, n).T\n",
    "kendall_correlation = stats.kendalltau(x, y)[0]\n",
    "\n",
    "end_time = time.time()\n",
    "\n",
    "print(f'Run time = {end_time - start_time} seconds')\n",
    "print(f'Kendall Correlation tau = {kendall_correlation}')"
   ]
  },
  {
   "cell_type": "markdown",
   "metadata": {},
   "source": [
    "#### 5.B\n",
    "Sample 1,000 points from the data and calculate the Kendall correlation $\\tau(U,V)$. "
   ]
  },
  {
   "cell_type": "code",
   "execution_count": 679,
   "metadata": {},
   "outputs": [],
   "source": [
    "def get_random_tau(top_range, sample_size):\n",
    "    random_indices = np.random.randint(top_range, size=sample_size)\n",
    "    U = [x[i] for i in random_indices]\n",
    "    V = [y[i] for i in random_indices]\n",
    "    sample_kendall_correlation = stats.kendalltau(U, V)[0]\n",
    "    \n",
    "    return sample_kendall_correlation"
   ]
  },
  {
   "cell_type": "code",
   "execution_count": 680,
   "metadata": {},
   "outputs": [
    {
     "name": "stdout",
     "output_type": "stream",
     "text": [
      "Sample Kendall Correlation tau = 0.7852732732732733\n"
     ]
    }
   ],
   "source": [
    "MAX = 10**7\n",
    "sample_kendall_correlation = get_random_tau(MAX, 10**3)\n",
    "print(f'Sample Kendall Correlation tau = {sample_kendall_correlation}')"
   ]
  },
  {
   "cell_type": "markdown",
   "metadata": {},
   "source": [
    "#### 5.C\n",
    "Repeat Section 5.B 1000 times and plot a histogram of the calculated $\\tau(U,V)$ values. Indicate the true $\\tau(X,Y)$ (calculated on the entire 10M samples) on the histogram. What are the empirical mean and standard deviation of the calculated $\\tau(U,V)$ values?"
   ]
  },
  {
   "cell_type": "code",
   "execution_count": 681,
   "metadata": {},
   "outputs": [],
   "source": [
    "def choose_random_samples(sample_size = 1000, iterations = 1000):\n",
    "    tau_list = []\n",
    "\n",
    "    for i in range(iterations):\n",
    "        tau_list.append(get_random_tau(MAX, sample_size))\n",
    "    \n",
    "    return tau_list, np.mean(tau_list), np.std(tau_list)"
   ]
  },
  {
   "cell_type": "code",
   "execution_count": 682,
   "metadata": {},
   "outputs": [
    {
     "name": "stdout",
     "output_type": "stream",
     "text": [
      "The Kendall-tau values we sampled have a mean of 0.7951740964580851 and a standard deviation of 0.006793335704537127\n"
     ]
    }
   ],
   "source": [
    "c_tau_list, c_mean, c_std = choose_random_samples(sample_size = 1000, iterations = 1000)\n",
    "\n",
    "print(f'The Kendall-tau values we sampled have a mean of {c_mean} and a standard deviation of {c_std}')"
   ]
  },
  {
   "cell_type": "code",
   "execution_count": 683,
   "metadata": {},
   "outputs": [
    {
     "data": {
      "text/plain": [
       "<matplotlib.legend.Legend at 0x183159f9c40>"
      ]
     },
     "execution_count": 683,
     "metadata": {},
     "output_type": "execute_result"
    },
    {
     "data": {
      "image/png": "[encoded data removed]",
      "text/plain": [
       "<Figure size 1584x432 with 1 Axes>"
      ]
     },
     "metadata": {
      "needs_background": "light"
     },
     "output_type": "display_data"
    }
   ],
   "source": [
    "fig = plt.figure(figsize=(22, 6))\n",
    "plt.hist(c_tau_list, density=True, bins=20)\n",
    "plt.title('Kendall tau correlation values histogram', fontsize=20)\n",
    "plt.ylabel('Count', fontsize=13)\n",
    "plt.xlabel('Kendall Tau', fontsize=13)\n",
    "plt.grid(True)\n",
    "plt.axvline(kendall_correlation, color='k', linestyle='dashed', linewidth=2, label='kendall_correlation')\n",
    "plt.legend(loc='upper left')"
   ]
  },
  {
   "cell_type": "markdown",
   "metadata": {},
   "source": [
    "#### 5.D\n",
    "Repeat Section 5.C for samples of $m={10, 50, 100, 500, 1000, 5000}$ points. <br>\n",
    "What is the naive time complexity of each calculation? <br>\n",
    "Compare the empirical time complexity and the standard deviation of the calucated values to the size of the sample."
   ]
  },
  {
   "cell_type": "code",
   "execution_count": 684,
   "metadata": {},
   "outputs": [],
   "source": [
    "m = [10, 50, 100, 500, 1000, 5000]\n",
    "results_list = []\n",
    "iterations = 1000\n",
    "\n",
    "for sample_size in m:\n",
    "    start_time = time.time()\n",
    "    m_tau_list = choose_random_samples(sample_size, iterations) # 1000 iterations per m points\n",
    "    end_time = time.time()\n",
    "    results_list.append([end_time - start_time, m_tau_list[2]]) # the standard deviation value is at index 2"
   ]
  },
  {
   "cell_type": "code",
   "execution_count": 685,
   "metadata": {},
   "outputs": [
    {
     "name": "stdout",
     "output_type": "stream",
     "text": [
      "The empirical time complexity of the calculation 0 (sample size = 10) is 0.22013545036315918 seconds, and its standard deviation is 0.10940188456182556\n",
      "The empirical time complexity of the calculation 1 (sample size = 50) is 0.2352886199951172 seconds, and its standard deviation is 0.03673897186881404\n",
      "The empirical time complexity of the calculation 2 (sample size = 100) is 0.28119802474975586 seconds, and its standard deviation is 0.02332623829861907\n",
      "The empirical time complexity of the calculation 3 (sample size = 500) is 0.6636147499084473 seconds, and its standard deviation is 0.00991512976558278\n",
      "The empirical time complexity of the calculation 4 (sample size = 1000) is 1.1308560371398926 seconds, and its standard deviation is 0.006863416654838076\n",
      "The empirical time complexity of the calculation 5 (sample size = 5000) is 4.701095342636108 seconds, and its standard deviation is 0.0032159267943241633\n",
      "\n",
      "The naive time complexity of each calculation is \n"
     ]
    }
   ],
   "source": [
    "for i in range(len(m)):\n",
    "    result_sample_size = m[i]\n",
    "    result_time = results_list[i][0]\n",
    "    result_std = results_list[i][1]\n",
    "    print(f'The empirical time complexity of the calculation {i} (sample size = {result_sample_size}) is {result_time} seconds, and its standard deviation is {result_std}')\n",
    "\n",
    "print(f'\\nThe naive time complexity of each calculation is ')"
   ]
  },
  {
   "cell_type": "markdown",
   "metadata": {},
   "source": [
    "#### 5.E\n",
    "A colleague found an old dataset which she believes originated from the same population as the data in Section 5.A. The dataset is avaialble as \"Kendall_data.csv\". \n",
    "\n",
    "Using Kendall correlation and your answer to Section 5.D, how much confidence do you have in rejecting your coleague's claim? Explain your answer and show your calculation."
   ]
  },
  {
   "cell_type": "markdown",
   "metadata": {},
   "source": [
    "***\n",
    "We use the Significance tests (or \"statistical assessment\" from lecture 9) method (Kendall, 1938), as seen in class:\n",
    "If two permutations are uniformly and independently drawn in $S_n$ then\n",
    "$$\n",
    "Z=\\frac{3(C-D)}{\\sqrt{0.5 * n(n-1) /(2 n+5)}}\n",
    "$$\n",
    "has an approximately $N(0,1)$ distribution.\n",
    "\n",
    "In our case, the two permutations are the columns from the CSV file.\n",
    "\n",
    "We want to see for how many of these permutations we get a tau which is the value from 5A (tau = 0.795) or larger.\n",
    "We take the tau we calculated in 5A and plug it in the equation."
   ]
  },
  {
   "cell_type": "code",
   "execution_count": 541,
   "metadata": {},
   "outputs": [
    {
     "name": "stdout",
     "output_type": "stream",
     "text": [
      "Kendall correlation = 0.7806556689451707\n",
      "Z = 2359.1757884179383\n"
     ]
    },
    {
     "data": {
      "text/plain": [
       "0.0"
      ]
     },
     "execution_count": 541,
     "metadata": {},
     "output_type": "execute_result"
    }
   ],
   "source": [
    "from math import comb \n",
    "\n",
    "kendall_data = pd.read_csv('Kendall_data.csv', header=None)\n",
    "x_values = kendall_data[0].values\n",
    "y_values = kendall_data[1].values\n",
    "\n",
    "e_kendall_corr = stats.kendalltau(x_values, y_values)[0]\n",
    "print(f'Kendall correlation = {e_kendall_corr}')\n",
    "\n",
    "\n",
    "\n",
    "\n",
    "n = 100\n",
    "C_minus_D = kendall_corr * comb(n, 2)\n",
    "C = (comb(n, 2) + C_minus_D) / 2\n",
    "D = comb(n, 2) - C\n",
    "\n",
    "Z = 3 * (C - D) / np.sqrt(0.5 * n * (n - 1) / (2 * n + 5)) # TODO: FIND REAL Z\n",
    "print(f'Z = {Z}')\n",
    "\n",
    "result = 1 - stats.norm.cdf(Z, loc=0, scale=1)\n",
    "result"
   ]
  }
 ],
 "metadata": {
  "kernelspec": {
   "display_name": "Python 3",
   "language": "python",
   "name": "python3"
  },
  "language_info": {
   "codemirror_mode": {
    "name": "ipython",
    "version": 3
   },
   "file_extension": ".py",
   "mimetype": "text/x-python",
   "name": "python",
   "nbconvert_exporter": "python",
   "pygments_lexer": "ipython3",
   "version": "3.8.5"
  }
 },
 "nbformat": 4,
 "nbformat_minor": 4
}
